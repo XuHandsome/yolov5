{
 "cells": [
  {
   "cell_type": "code",
   "execution_count": 77,
   "metadata": {
    "collapsed": true
   },
   "outputs": [],
   "source": [
    "import win32gui\n",
    "import win32con\n",
    "import numpy as np\n",
    "from mss import mss\n",
    "import cv2"
   ]
  },
  {
   "cell_type": "code",
   "execution_count": 85,
   "outputs": [],
   "source": [
    "# classname  = \"照片\"\n",
    "titlename = \"free_ow_20221030201014.png \\u200e- 照片\""
   ],
   "metadata": {
    "collapsed": false
   }
  },
  {
   "cell_type": "code",
   "execution_count": 86,
   "outputs": [
    {
     "name": "stdout",
     "output_type": "stream",
     "text": [
      "-7 1287\n",
      "0 532\n"
     ]
    }
   ],
   "source": [
    "hwnd = win32gui.FindWindow(0, titlename)\n",
    "#获取窗口左上角和右下角坐标\n",
    "left, top, right, bottom = win32gui.GetWindowRect(hwnd)\n",
    "print(left,right)\n",
    "print(top,bottom)"
   ],
   "metadata": {
    "collapsed": false
   }
  },
  {
   "cell_type": "code",
   "execution_count": 87,
   "outputs": [
    {
     "name": "stdout",
     "output_type": "stream",
     "text": [
      "1294\n",
      "532\n"
     ]
    }
   ],
   "source": [
    "print(right - left)\n",
    "print(bottom - top)"
   ],
   "metadata": {
    "collapsed": false
   }
  },
  {
   "cell_type": "code",
   "execution_count": 88,
   "outputs": [
    {
     "data": {
      "text/plain": "24"
     },
     "execution_count": 88,
     "metadata": {},
     "output_type": "execute_result"
    }
   ],
   "source": [
    "win32gui.SetForegroundWindow(win32gui.FindWindow(0, titlename))\n",
    "win32gui.ShowWindow(win32gui.FindWindow(0, titlename), win32con.SW_SHOW)"
   ],
   "metadata": {
    "collapsed": false
   }
  },
  {
   "cell_type": "code",
   "execution_count": 89,
   "outputs": [],
   "source": [
    "def screen_record():\n",
    "    left, top, right, bottom = win32gui.GetWindowRect(hwnd)\n",
    "    width = right - left\n",
    "    height = bottom - top\n",
    "    bounding_box = {'top': top, 'left': left, 'width': width, 'height': height}\n",
    "    with mss() as sct:\n",
    "        for _ in range(100):\n",
    "            return sct.grab(bounding_box)"
   ],
   "metadata": {
    "collapsed": false
   }
  },
  {
   "cell_type": "code",
   "execution_count": 91,
   "outputs": [
    {
     "ename": "KeyboardInterrupt",
     "evalue": "",
     "output_type": "error",
     "traceback": [
      "\u001B[1;31m---------------------------------------------------------------------------\u001B[0m",
      "\u001B[1;31mKeyboardInterrupt\u001B[0m                         Traceback (most recent call last)",
      "Input \u001B[1;32mIn [91]\u001B[0m, in \u001B[0;36m<cell line: 2>\u001B[1;34m()\u001B[0m\n\u001B[0;32m      3\u001B[0m scr_img \u001B[38;5;241m=\u001B[39m np\u001B[38;5;241m.\u001B[39marray(sct_img)\n\u001B[0;32m      5\u001B[0m cv2\u001B[38;5;241m.\u001B[39mimshow(\u001B[38;5;124m\"\u001B[39m\u001B[38;5;124mScreen Realtime\u001B[39m\u001B[38;5;124m\"\u001B[39m, np\u001B[38;5;241m.\u001B[39marray(scr_img)[\u001B[38;5;241m0\u001B[39m])\n\u001B[1;32m----> 6\u001B[0m \u001B[38;5;28;01mif\u001B[39;00m (\u001B[43mcv2\u001B[49m\u001B[38;5;241;43m.\u001B[39;49m\u001B[43mwaitKey\u001B[49m\u001B[43m(\u001B[49m\u001B[38;5;241;43m1\u001B[39;49m\u001B[43m)\u001B[49m \u001B[38;5;241m&\u001B[39m \u001B[38;5;241m0xFF\u001B[39m) \u001B[38;5;241m==\u001B[39m \u001B[38;5;28mord\u001B[39m(\u001B[38;5;124m'\u001B[39m\u001B[38;5;124mq\u001B[39m\u001B[38;5;124m'\u001B[39m):\n\u001B[0;32m      7\u001B[0m     cv2\u001B[38;5;241m.\u001B[39mdestroyAllWindows()\n",
      "\u001B[1;31mKeyboardInterrupt\u001B[0m: "
     ]
    }
   ],
   "source": [
    "while True:\n",
    "    sct_img = screen_record()\n",
    "    scr_img = np.array(sct_img)\n",
    "\n",
    "    cv2.imshow(\"Screen Realtime\", np.array(scr_img)[0])\n",
    "    if (cv2.waitKey(1) & 0xFF) == ord('q'):\n",
    "        cv2.destroyAllWindows()"
   ],
   "metadata": {
    "collapsed": false
   }
  },
  {
   "cell_type": "code",
   "execution_count": 21,
   "outputs": [
    {
     "name": "stdout",
     "output_type": "stream",
     "text": [
      "([131388], ['yolov5 – test.ipynb'])\n",
      "([198228], ['照片'])\n",
      "([460280], ['free_ow_20221030201014.png \\u200e- 照片'])\n",
      "([918478], ['python中的句柄操作的方法示例 - html中文网 和另外 2 个页面 - 个人 - Microsoft\\u200b Edge'])\n",
      "([197416], ['train'])\n",
      "([197044], ['微信'])\n",
      "([131114], ['Microsoft Text Input Application'])\n",
      "([66704], ['设置'])\n",
      "([132186], ['设置'])\n",
      "([65868], ['Program Manager'])\n"
     ]
    },
    {
     "name": "stderr",
     "output_type": "stream",
     "text": [
      "<>:8: SyntaxWarning: \"is not\" with a literal. Did you mean \"!=\"?\n",
      "<>:8: SyntaxWarning: \"is not\" with a literal. Did you mean \"!=\"?\n",
      "C:\\Users\\jack\\AppData\\Local\\Temp\\ipykernel_2100\\973246287.py:8: SyntaxWarning: \"is not\" with a literal. Did you mean \"!=\"?\n",
      "  if t is not \"\":\n"
     ]
    }
   ],
   "source": [
    "hwnd_title = dict()\n",
    "def get_all_hwnd(hwnd,mouse):\n",
    "    if win32gui.IsWindow(hwnd) and win32gui.IsWindowEnabled(hwnd) and win32gui.IsWindowVisible(hwnd):\n",
    "        hwnd_title.update({hwnd:win32gui.GetWindowText(hwnd)})\n",
    "win32gui.EnumWindows(get_all_hwnd, 0)\n",
    "\n",
    "for h,t in hwnd_title.items():\n",
    "    if t is not \"\":\n",
    "        # print(([h], [t]))\n",
    "        print(([h], [t]))"
   ],
   "metadata": {
    "collapsed": false
   }
  },
  {
   "cell_type": "code",
   "execution_count": 4,
   "outputs": [],
   "source": [
    "import win32api\n",
    "import win32con"
   ],
   "metadata": {
    "collapsed": false
   }
  },
  {
   "cell_type": "code",
   "execution_count": 14,
   "outputs": [],
   "source": [
    "# win32api.mouse_event(win32con.MOUSEEVENTF_MOVE, int(xyItem[0] - width // 2), int(xyItem[1] - (height - (xyItem[3] - xyItem[5])) // 2), 0, 0)\n",
    "win32api.mouse_event(win32con.MOUSEEVENTF_MOVE, -37, -91, 0, 0)"
   ],
   "metadata": {
    "collapsed": false
   }
  }
 ],
 "metadata": {
  "kernelspec": {
   "display_name": "Python 3",
   "language": "python",
   "name": "python3"
  },
  "language_info": {
   "codemirror_mode": {
    "name": "ipython",
    "version": 2
   },
   "file_extension": ".py",
   "mimetype": "text/x-python",
   "name": "python",
   "nbconvert_exporter": "python",
   "pygments_lexer": "ipython2",
   "version": "2.7.6"
  }
 },
 "nbformat": 4,
 "nbformat_minor": 0
}
