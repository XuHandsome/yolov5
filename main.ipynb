{
 "cells": [
  {
   "cell_type": "code",
   "execution_count": 126,
   "metadata": {},
   "outputs": [],
   "source": [
    "import torch\n",
    "import cv2\n",
    "import numpy as np\n",
    "from PIL import ImageGrab\n",
    "import math\n",
    "from pynput.mouse import Controller\n",
    "import pyautogui"
   ]
  },
  {
   "cell_type": "code",
   "execution_count": 5,
   "metadata": {},
   "outputs": [
    {
     "name": "stderr",
     "output_type": "stream",
     "text": [
      "YOLOv5 🚀 a8efbd2 Python-3.9.13 torch-1.13.0 CPU\n",
      "\n",
      "Fusing layers... \n",
      "Model summary: 157 layers, 7099126 parameters, 0 gradients, 16.0 GFLOPs\n",
      "Adding AutoShape... \n"
     ]
    }
   ],
   "source": [
    "model = torch.hub.load('./', 'custom', path='./runs/train/exp/weights/best.pt', source='local')"
   ]
  },
  {
   "cell_type": "code",
   "execution_count": 66,
   "metadata": {},
   "outputs": [],
   "source": [
    "# 置信度阀值\n",
    "model.conf = 0.25\n",
    "# 自动混合精度推理\n",
    "model.amp = True\n",
    "# 一个box里多个标签\n",
    "model.multi_label = True\n",
    "# 指定labels number ,训练用的yaml里定义的每个label number对应的标签\n",
    "model.classes = 0"
   ]
  },
  {
   "cell_type": "code",
   "execution_count": 76,
   "metadata": {},
   "outputs": [],
   "source": [
    "class Point():\n",
    "    def __init__(self, x1, y1, x2, y2):\n",
    "        self.x1 = x1\n",
    "        self.y1 = y1\n",
    "        self.x2 = x2\n",
    "        self.y2 = y2\n",
    "class Line(Point):\n",
    "    def __init__(self, x1, y1, x2, y2):\n",
    "        super().__init__(x1, y1, x2, y2)\n",
    "\n",
    "    def getlen(self):\n",
    "        changdu = math.sqrt(math.pow((self.x1 - self.x2), 2) + math.pow((self.y1 - self.y2), 2))\n",
    "        return changdu"
   ]
  },
  {
   "cell_type": "code",
   "execution_count": 67,
   "metadata": {},
   "outputs": [
    {
     "data": {
      "text/html": [
       "<div>\n",
       "<style scoped>\n",
       "    .dataframe tbody tr th:only-of-type {\n",
       "        vertical-align: middle;\n",
       "    }\n",
       "\n",
       "    .dataframe tbody tr th {\n",
       "        vertical-align: top;\n",
       "    }\n",
       "\n",
       "    .dataframe thead th {\n",
       "        text-align: right;\n",
       "    }\n",
       "</style>\n",
       "<table border=\"1\" class=\"dataframe\">\n",
       "  <thead>\n",
       "    <tr style=\"text-align: right;\">\n",
       "      <th></th>\n",
       "      <th>xmin</th>\n",
       "      <th>ymin</th>\n",
       "      <th>xmax</th>\n",
       "      <th>ymax</th>\n",
       "      <th>confidence</th>\n",
       "      <th>class</th>\n",
       "      <th>name</th>\n",
       "    </tr>\n",
       "  </thead>\n",
       "  <tbody>\n",
       "    <tr>\n",
       "      <th>0</th>\n",
       "      <td>36.78376</td>\n",
       "      <td>4.036248</td>\n",
       "      <td>54.430607</td>\n",
       "      <td>25.243761</td>\n",
       "      <td>0.711635</td>\n",
       "      <td>0</td>\n",
       "      <td>four</td>\n",
       "    </tr>\n",
       "  </tbody>\n",
       "</table>\n",
       "</div>"
      ],
      "text/plain": [
       "       xmin      ymin       xmax       ymax  confidence  class  name\n",
       "0  36.78376  4.036248  54.430607  25.243761    0.711635      0  four"
      ]
     },
     "execution_count": 67,
     "metadata": {},
     "output_type": "execute_result"
    }
   ],
   "source": [
    "im = '../datasets/word/images/train/14XS.jpg'\n",
    "# im = ImageGrab.grab()\n",
    "results = model(im)\n",
    "# results.pandas().xyxy[0].to_json(orient=\"records\")\n",
    "results.pandas().xyxy[0]\n",
    "\n",
    "# results.print()\n",
    "# results.show()"
   ]
  },
  {
   "cell_type": "code",
   "execution_count": 138,
   "metadata": {},
   "outputs": [
    {
     "name": "stdout",
     "output_type": "stream",
     "text": [
      "[857]\n",
      "[[45, 14, 36, 4, 54, 25]]\n",
      "857\n"
     ]
    }
   ],
   "source": [
    "# 过滤模型\n",
    "## 坐标\n",
    "xmins = results.pandas().xyxy[0]['xmin']\n",
    "ymins = results.pandas().xyxy[0]['ymin']\n",
    "xmaxs = results.pandas().xyxy[0]['xmax']\n",
    "ymaxs = results.pandas().xyxy[0]['ymax']\n",
    "\n",
    "## 信任度\n",
    "confidences = results.pandas().xyxy[0]['confidence']\n",
    "name = results.pandas().xyxy[0]['name']\n",
    "\n",
    "class_list = results.pandas().xyxy[0]['class']\n",
    "# print(class_list)\n",
    "# print(xmins)\n",
    "# print(ymins)\n",
    "# print(xmaxs)\n",
    "# print(ymaxs)\n",
    "# print(confidences)\n",
    "# print(name)\n",
    "\n",
    "newlist = []\n",
    "for xmin, ymin, xmax, ymax, classitem, conf in zip(xmins, ymins, xmaxs, ymaxs, class_list, confidences):\n",
    "    if classitem == 0 and conf > 0.5:\n",
    "        newlist.append([int(xmin), int(ymin), int(xmax), int(ymax), conf])\n",
    "\n",
    "# print(newlist)\n",
    "\n",
    "# 中心坐标\n",
    "for listItem in newlist:\n",
    "    cdList = []\n",
    "    xyList = []\n",
    "    # print(listItem)\n",
    "    xindex = int(listItem[2] - (listItem[2] - listItem[0]) / 2)\n",
    "    yindex = int(listItem[3] - (listItem[3] - listItem[1]) / 2)\n",
    "    mouseModal = Controller()\n",
    "    x, y = mouseModal.position\n",
    "    # print(x,y)\n",
    "    L1 = Line(x, y, xindex, yindex)\n",
    "    cdList.append(int(L1.getlen()))\n",
    "    xyList.append([xindex, yindex, listItem[0], listItem[1], listItem[2], listItem[3]])\n",
    "\n",
    "print(cdList)\n",
    "print(xyList)\n",
    "minCD = min(cdList)\n",
    "print(minCD)"
   ]
  },
  {
   "cell_type": "code",
   "execution_count": 139,
   "metadata": {},
   "outputs": [
    {
     "name": "stdout",
     "output_type": "stream",
     "text": [
      "857\n",
      "[45, 14, 36, 4, 54, 25]\n",
      "-1811\n",
      "-556\n"
     ]
    }
   ],
   "source": [
    "game_width = 3712\n",
    "game_height = 1120\n",
    "for cdItem, xyItem in zip(cdList, xyList):\n",
    "   print(cdItem)\n",
    "   print(xyItem)\n",
    "   # 2秒钟鼠标移动坐标为100,100位置  绝对移动\n",
    "   # pyautogui.moveTo(100, 100,2)\n",
    "   # pyautogui.moveTo(x=100, y=100,duration=2, tween=pyautogui.linear)\n",
    "   # win32api.mouse_event(win32con.MOUSEEVENTF_MOVE, int(xyItem[0] - game_width // 2),int(xyItem[1] - (game_height - (xyItem[3] - xyItem[5])) // 2 + 17), 0, 0)\n",
    "   print(int(xyItem[0] - game_width // 2))\n",
    "   print(int(xyItem[1] - (game_height - (xyItem[3] - xyItem[5])) // 2))\n",
    "   x = int(xyItem[0] - game_width // 2)\n",
    "   y = int(xyItem[1] - (game_height - (xyItem[3] - xyItem[5])) // 2)\n",
    "   pyautogui.moveTo(x=x, y=y, duration=2, tween=pyautogui.linear)"
   ]
  },
  {
   "cell_type": "code",
   "execution_count": 8,
   "metadata": {},
   "outputs": [],
   "source": [
    "from mss.darwin import MSS as mss\n",
    "import matplotlib.pyplot as plt\n",
    "sct = mss()"
   ]
  },
  {
   "cell_type": "code",
   "execution_count": 34,
   "metadata": {},
   "outputs": [
    {
     "name": "stdout",
     "output_type": "stream",
     "text": [
      "{'left': -1920, 'top': 0, 'width': 3712, 'height': 1120}\n",
      "{'left': 0, 'top': 0, 'width': 1792, 'height': 1120}\n",
      "{'left': -1920, 'top': 0, 'width': 1920, 'height': 1080}\n"
     ]
    }
   ],
   "source": [
    "# 可以看每个显示器分辨率来判断显示器编号\n",
    "print(sct.monitors[0])\n",
    "print(sct.monitors[1])\n",
    "print(sct.monitors[2])"
   ]
  },
  {
   "cell_type": "code",
   "execution_count": 26,
   "metadata": {},
   "outputs": [
    {
     "name": "stdout",
     "output_type": "stream",
     "text": [
      "0\n"
     ]
    }
   ],
   "source": [
    "# 选中副显示器\n",
    "monitor_number = 2\n",
    "# 可以看每个显示器分辨率来判断显示器编号\n",
    "# sct_img = sct.monitors[2]\n",
    "# print(sct_img)\n",
    "mon = sct.monitors[monitor_number]\n",
    "print(mon[\"top\"])\n",
    "monitor = {\n",
    "        \"top\": mon[\"top\"] + 100,  # 100px from the top\n",
    "        \"left\": mon[\"left\"] + 100,  # 100px from the left\n",
    "        \"width\": 1920,\n",
    "        \"height\": 1080,\n",
    "        \"mon\": monitor_number,\n",
    "    }"
   ]
  },
  {
   "cell_type": "code",
   "execution_count": 16,
   "metadata": {},
   "outputs": [],
   "source": [
    "import time\n",
    "from pynput.mouse import Controller\n",
    "# import mouse"
   ]
  },
  {
   "cell_type": "code",
   "execution_count": null,
   "metadata": {},
   "outputs": [],
   "source": [
    "while True:\n",
    "    mouseModal = Controller()\n",
    "    x, y = mouseModal.position\n",
    "    print(x, y)\n",
    "    time.sleep(1)"
   ]
  },
  {
   "cell_type": "code",
   "execution_count": 31,
   "metadata": {},
   "outputs": [],
   "source": [
    "import pyautogui\n",
    "# 获取当前屏幕分辨率\n",
    "screenWidth, screenHeight = pyautogui.size()\n",
    "# 获取当前鼠标位置\n",
    "currentMouseX, currentMouseY = pyautogui.position()\n",
    "\n",
    "# 2秒钟鼠标移动坐标为100,100位置  绝对移动\n",
    "#pyautogui.moveTo(100, 100,2)\n",
    "# pyautogui.moveTo(x=100, y=100,duration=2, tween=pyautogui.linear)\n",
    "#鼠标移到屏幕中央。\n",
    "pyautogui.moveTo(screenWidth / 2, screenHeight / 2)\n",
    "\n",
    "# 鼠标左击一次\n",
    "# pyautogui.click()"
   ]
  }
 ],
 "metadata": {
  "kernelspec": {
   "display_name": "Python 3.9.13 ('ml')",
   "language": "python",
   "name": "python3"
  },
  "language_info": {
   "codemirror_mode": {
    "name": "ipython",
    "version": 3
   },
   "file_extension": ".py",
   "mimetype": "text/x-python",
   "name": "python",
   "nbconvert_exporter": "python",
   "pygments_lexer": "ipython3",
   "version": "3.9.13"
  },
  "orig_nbformat": 4,
  "vscode": {
   "interpreter": {
    "hash": "1526ecbb56f2bd36781bbed7982cc1eecbf2c1ff238ebf94a5c1e85ec6db9549"
   }
  }
 },
 "nbformat": 4,
 "nbformat_minor": 2
}
